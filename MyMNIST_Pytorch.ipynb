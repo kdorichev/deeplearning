{
  "nbformat": 4,
  "nbformat_minor": 0,
  "metadata": {
    "kernelspec": {
      "name": "python3",
      "display_name": "Python 3"
    },
    "language_info": {
      "codemirror_mode": {
        "name": "ipython",
        "version": 3
      },
      "file_extension": ".py",
      "mimetype": "text/x-python",
      "name": "python",
      "nbconvert_exporter": "python",
      "pygments_lexer": "ipython3",
      "version": "3.7.3"
    },
    "colab": {
      "name": "MyMNIST-Pytorch.ipynb",
      "provenance": []
    },
    "accelerator": "GPU"
  },
  "cells": [
    {
      "cell_type": "markdown",
      "metadata": {
        "id": "YajoEUlRPxNF",
        "colab_type": "text"
      },
      "source": [
        "#  Learning Various Deep Learning Techniques on MNIST\n",
        "\n",
        "Starting from pure PyTorch."
      ]
    },
    {
      "cell_type": "markdown",
      "metadata": {
        "id": "fZp4CL7hPxNI",
        "colab_type": "text"
      },
      "source": [
        "# Getting the Data Ready"
      ]
    },
    {
      "cell_type": "code",
      "metadata": {
        "id": "17VXl7RePxNV",
        "colab_type": "code",
        "colab": {}
      },
      "source": [
        "from fastai.vision import *\n",
        "from fastai.callbacks import CSVLogger, ReduceLROnPlateauCallback, SaveModelCallback, EarlyStoppingCallback"
      ],
      "execution_count": 0,
      "outputs": []
    },
    {
      "cell_type": "code",
      "metadata": {
        "id": "y00I89toPxNm",
        "colab_type": "code",
        "colab": {}
      },
      "source": [
        "mnist = untar_data(URLs.MNIST)"
      ],
      "execution_count": 0,
      "outputs": []
    },
    {
      "cell_type": "code",
      "metadata": {
        "id": "HLSxJnToPxNv",
        "colab_type": "code",
        "outputId": "36fd08fe-a2fb-45ad-9484-5605de71d162",
        "colab": {
          "base_uri": "https://localhost:8080/",
          "height": 52
        }
      },
      "source": [
        "mnist.ls()"
      ],
      "execution_count": 3,
      "outputs": [
        {
          "output_type": "execute_result",
          "data": {
            "text/plain": [
              "[PosixPath('/root/.fastai/data/mnist_png/training'),\n",
              " PosixPath('/root/.fastai/data/mnist_png/testing')]"
            ]
          },
          "metadata": {
            "tags": []
          },
          "execution_count": 3
        }
      ]
    },
    {
      "cell_type": "code",
      "metadata": {
        "id": "-WETAz8hPxN5",
        "colab_type": "code",
        "colab": {}
      },
      "source": [
        "# data = (ImageList.from_folder(mnist)#,convert_mode='L')\n",
        "#     .split_by_folder()\n",
        "#     .label_from_folder()\n",
        "#     .add_test_folder(mnist/'test')\n",
        "#     .databunch(bs=128)\n",
        "#     .normalize(imagenet_stats))"
      ],
      "execution_count": 0,
      "outputs": []
    },
    {
      "cell_type": "code",
      "metadata": {
        "id": "nIgzPq2oaooJ",
        "colab_type": "code",
        "outputId": "ed715360-4837-4558-bbc8-98976145c1c3",
        "colab": {
          "base_uri": "https://localhost:8080/",
          "height": 35
        }
      },
      "source": [
        "#torch.cuda.init()\n",
        "torch.cuda.max_memory_allocated(0)"
      ],
      "execution_count": 4,
      "outputs": [
        {
          "output_type": "execute_result",
          "data": {
            "text/plain": [
              "0"
            ]
          },
          "metadata": {
            "tags": []
          },
          "execution_count": 4
        }
      ]
    },
    {
      "cell_type": "code",
      "metadata": {
        "id": "-CNo_GNQPxOp",
        "colab_type": "code",
        "colab": {}
      },
      "source": [
        "tfms = get_transforms(do_flip=False)\n",
        "data = (ImageList.from_folder(mnist/'training')#,convert_mode='L')\n",
        "        .split_by_rand_pct() # split_by_folder()          \n",
        "        .label_from_folder()\n",
        "        .add_test_folder(mnist/'testing')\n",
        "        .transform(tfms, size=28)\n",
        "        .databunch(bs=128)\n",
        "        .normalize(imagenet_stats))"
      ],
      "execution_count": 0,
      "outputs": []
    },
    {
      "cell_type": "code",
      "metadata": {
        "id": "MoQB4BT2PxO6",
        "colab_type": "code",
        "outputId": "4565bec5-cd2c-46c3-b6c7-0e454b9099a3",
        "colab": {
          "base_uri": "https://localhost:8080/",
          "height": 397
        }
      },
      "source": [
        "data"
      ],
      "execution_count": 6,
      "outputs": [
        {
          "output_type": "execute_result",
          "data": {
            "text/plain": [
              "ImageDataBunch;\n",
              "\n",
              "Train: LabelList (48000 items)\n",
              "x: ImageList\n",
              "Image (3, 28, 28),Image (3, 28, 28),Image (3, 28, 28),Image (3, 28, 28),Image (3, 28, 28)\n",
              "y: CategoryList\n",
              "6,6,6,6,6\n",
              "Path: /root/.fastai/data/mnist_png/training;\n",
              "\n",
              "Valid: LabelList (12000 items)\n",
              "x: ImageList\n",
              "Image (3, 28, 28),Image (3, 28, 28),Image (3, 28, 28),Image (3, 28, 28),Image (3, 28, 28)\n",
              "y: CategoryList\n",
              "7,0,8,5,6\n",
              "Path: /root/.fastai/data/mnist_png/training;\n",
              "\n",
              "Test: LabelList (10000 items)\n",
              "x: ImageList\n",
              "Image (3, 28, 28),Image (3, 28, 28),Image (3, 28, 28),Image (3, 28, 28),Image (3, 28, 28)\n",
              "y: EmptyLabelList\n",
              ",,,,\n",
              "Path: /root/.fastai/data/mnist_png/training"
            ]
          },
          "metadata": {
            "tags": []
          },
          "execution_count": 6
        }
      ]
    },
    {
      "cell_type": "code",
      "metadata": {
        "id": "Yt7vumKcPxO-",
        "colab_type": "code",
        "colab": {}
      },
      "source": [
        "#data.test_ds.path = mnist/'testing'"
      ],
      "execution_count": 0,
      "outputs": []
    },
    {
      "cell_type": "code",
      "metadata": {
        "id": "c9d76hBkt5fd",
        "colab_type": "code",
        "colab": {}
      },
      "source": [
        "torch.cuda.init()"
      ],
      "execution_count": 0,
      "outputs": []
    },
    {
      "cell_type": "code",
      "metadata": {
        "id": "76Rzn6MEPxPX",
        "colab_type": "code",
        "outputId": "133becec-b3de-43aa-e95b-ac41ae9a8b55",
        "colab": {
          "base_uri": "https://localhost:8080/",
          "height": 297
        }
      },
      "source": [
        "data.show_batch(rows=3,figsize=(4,4))"
      ],
      "execution_count": 8,
      "outputs": [
        {
          "output_type": "display_data",
          "data": {
            "image/png": "[encoded data removed]",
            "text/plain": [
              "<Figure size 288x288 with 9 Axes>"
            ]
          },
          "metadata": {
            "tags": []
          }
        }
      ]
    },
    {
      "cell_type": "markdown",
      "metadata": {
        "id": "9Vu_GpiSPxPo",
        "colab_type": "text"
      },
      "source": [
        "# 1-layer Neural net from scratch (no torch.nn)"
      ]
    },
    {
      "cell_type": "markdown",
      "metadata": {
        "id": "8pXSGsAqPxPq",
        "colab_type": "text"
      },
      "source": [
        "## Model"
      ]
    },
    {
      "cell_type": "code",
      "metadata": {
        "id": "P_ln1MGAPxPr",
        "colab_type": "code",
        "colab": {}
      },
      "source": [
        "inp = data.train_ds.x[0].px.squeeze().reshape(-1).shape[0]\n",
        "c = data.train_ds.c\n",
        "inp,c"
      ],
      "execution_count": 0,
      "outputs": []
    },
    {
      "cell_type": "code",
      "metadata": {
        "id": "Pllmx_n4PxP0",
        "colab_type": "code",
        "colab": {}
      },
      "source": [
        "data.train_ds.x[0].px.squeeze().reshape(-1).shape"
      ],
      "execution_count": 0,
      "outputs": []
    },
    {
      "cell_type": "code",
      "metadata": {
        "id": "x27hA4HyPxQB",
        "colab_type": "code",
        "colab": {}
      },
      "source": [
        "def log_softmax(x):\n",
        "    return x - x.exp().sum(-1).log().unsqueeze(-1)"
      ],
      "execution_count": 0,
      "outputs": []
    },
    {
      "cell_type": "code",
      "metadata": {
        "id": "KFl7alKKPxQF",
        "colab_type": "code",
        "colab": {}
      },
      "source": [
        "def model(x):\n",
        "    return log_softmax(x @ w + b)"
      ],
      "execution_count": 0,
      "outputs": []
    },
    {
      "cell_type": "code",
      "metadata": {
        "id": "2PCh0bCPPxQT",
        "colab_type": "code",
        "colab": {}
      },
      "source": [
        "def accuracy(pred,y):\n",
        "    return (pred.argmax(dim=1) == y).float().mean()"
      ],
      "execution_count": 0,
      "outputs": []
    },
    {
      "cell_type": "code",
      "metadata": {
        "id": "HreW8L4LPxQY",
        "colab_type": "code",
        "colab": {}
      },
      "source": [
        "def error(pred,y):\n",
        "    return 1-accuracy(pred,y)"
      ],
      "execution_count": 0,
      "outputs": []
    },
    {
      "cell_type": "code",
      "metadata": {
        "id": "jrxSzNJhPxQj",
        "colab_type": "code",
        "colab": {}
      },
      "source": [
        "def nll(pred,yb):\n",
        "    return -pred[range(yb.shape[0]), yb].mean()\n",
        "loss_func = nll"
      ],
      "execution_count": 0,
      "outputs": []
    },
    {
      "cell_type": "code",
      "metadata": {
        "id": "PVUE0Y7ePxQo",
        "colab_type": "code",
        "colab": {}
      },
      "source": [
        "def stats(w):\n",
        "    #with torch.no_grad(): \n",
        "    return w.mean().item(),w.std().item()\n",
        "    return 'w.mean='+str(w.mean().item())+', w.std='+str(w.std().item())"
      ],
      "execution_count": 0,
      "outputs": []
    },
    {
      "cell_type": "code",
      "metadata": {
        "id": "11KHszg6PxQt",
        "colab_type": "code",
        "colab": {}
      },
      "source": [
        "def stats_str(w):\n",
        "    m,s = stats(w)\n",
        "    return f'{m}, {s}'"
      ],
      "execution_count": 0,
      "outputs": []
    },
    {
      "cell_type": "markdown",
      "metadata": {
        "id": "4fHuFbSJPxQx",
        "colab_type": "text"
      },
      "source": [
        "## Training"
      ]
    },
    {
      "cell_type": "code",
      "metadata": {
        "id": "Ki2ikoESPxQz",
        "colab_type": "code",
        "colab": {}
      },
      "source": [
        "import pandas as pd\n",
        "df = pd.DataFrame()"
      ],
      "execution_count": 0,
      "outputs": []
    },
    {
      "cell_type": "code",
      "metadata": {
        "id": "_bRx6hi9PxRl",
        "colab_type": "code",
        "colab": {}
      },
      "source": [
        "w = torch.randn((inp,c)) * math.sqrt(2/inp) #/ math.sqrt(784) # Xavier init\n",
        "w.requires_grad_()\n",
        "b = torch.zeros(c, requires_grad=True)"
      ],
      "execution_count": 0,
      "outputs": []
    },
    {
      "cell_type": "code",
      "metadata": {
        "id": "zvCM_hqePxRz",
        "colab_type": "code",
        "colab": {}
      },
      "source": [
        "xb,yb = next(iter(data.train_dl))"
      ],
      "execution_count": 0,
      "outputs": []
    },
    {
      "cell_type": "code",
      "metadata": {
        "id": "qrXtTgdRPxR3",
        "colab_type": "code",
        "colab": {}
      },
      "source": [
        "xb = xb.reshape(-1,784)\n",
        "xb.shape"
      ],
      "execution_count": 0,
      "outputs": []
    },
    {
      "cell_type": "code",
      "metadata": {
        "scrolled": true,
        "id": "xqdynrZCPxSH",
        "colab_type": "code",
        "colab": {}
      },
      "source": [
        "epochs,lr=2,0.4\n",
        "res = []\n",
        "for epoch in range(epochs):\n",
        "  #  print(f'---- Epoch: {epoch} ----')\n",
        "    for xb,yb in data.train_dl:\n",
        "        xb = xb.reshape(-1,784)\n",
        "        pred = model(xb)\n",
        "        loss = loss_func(pred, yb)\n",
        "        loss.backward()\n",
        "        with torch.no_grad():\n",
        "            w -= w.grad * lr\n",
        "            b -= b.grad * lr\n",
        "            w.grad.zero_()\n",
        "            b.grad.zero_()\n",
        "\n",
        "    # validation step\n",
        "    with torch.no_grad():\n",
        "        total_loss,total_acc = 0,0\n",
        "        for xb,yb in data.valid_dl:\n",
        "            xb = xb.reshape(-1,784)\n",
        "            pred = model(xb)\n",
        "            total_loss += loss_func(pred, yb)\n",
        "            total_acc += accuracy(pred,yb)\n",
        "        nv = len(data.valid_dl)\n",
        "        print(f'{epoch}: loss={total_loss/nv},\\t acc={total_acc/nv}')\n",
        "        res.append((total_acc/nv).item())"
      ],
      "execution_count": 0,
      "outputs": []
    },
    {
      "cell_type": "code",
      "metadata": {
        "id": "MUW0nvJhPxSS",
        "colab_type": "code",
        "colab": {}
      },
      "source": [
        "res"
      ],
      "execution_count": 0,
      "outputs": []
    },
    {
      "cell_type": "code",
      "metadata": {
        "id": "GZ9sQ1cYPxSl",
        "colab_type": "code",
        "colab": {}
      },
      "source": [
        "df['He, lr=0.4'] = res"
      ],
      "execution_count": 0,
      "outputs": []
    },
    {
      "cell_type": "code",
      "metadata": {
        "id": "P3UKHsbsPxS5",
        "colab_type": "code",
        "colab": {}
      },
      "source": [
        "df.head()"
      ],
      "execution_count": 0,
      "outputs": []
    },
    {
      "cell_type": "code",
      "metadata": {
        "scrolled": true,
        "id": "Gp4GT8rbPxTo",
        "colab_type": "code",
        "colab": {}
      },
      "source": [
        "ax = df.plot(title='Weights initialization study',xticks=[0,1,2,3,4]);\n",
        "ax.set_xlabel(\"Epoch\");\n",
        "ax.set_ylabel(\"Accuracy\");"
      ],
      "execution_count": 0,
      "outputs": []
    },
    {
      "cell_type": "markdown",
      "metadata": {
        "id": "TfPoLa6CPxTz",
        "colab_type": "text"
      },
      "source": [
        "# Using Torch.nn"
      ]
    },
    {
      "cell_type": "markdown",
      "metadata": {
        "id": "3k0lYxwtPxT6",
        "colab_type": "text"
      },
      "source": [
        "## Model defined as a Class"
      ]
    },
    {
      "cell_type": "code",
      "metadata": {
        "id": "mTIoomDJPxT7",
        "colab_type": "code",
        "colab": {}
      },
      "source": [
        "import torch.nn as nn\n",
        "import torch.nn.functional as F\n",
        "\n",
        "class Model(nn.Module):\n",
        "    def __init__(self):\n",
        "        super(Model, self).__init__()\n",
        "        self.lin1 = nn.Linear(784, 100)\n",
        "        self.out = nn.Linear(100, 10)\n",
        "\n",
        "    def forward(self, x):\n",
        "        x = F.relu(self.lin1(x))\n",
        "        return F.log_softmax(self.out(x),dim=1) "
      ],
      "execution_count": 0,
      "outputs": []
    },
    {
      "cell_type": "code",
      "metadata": {
        "scrolled": false,
        "id": "jZZYoUJ2PxUC",
        "colab_type": "code",
        "outputId": "a7f0d6b6-6364-4eae-c695-7018afdc2aa4",
        "colab": {
          "base_uri": "https://localhost:8080/",
          "height": 165
        }
      },
      "source": [
        "model = Model()"
      ],
      "execution_count": 0,
      "outputs": [
        {
          "output_type": "error",
          "ename": "NameError",
          "evalue": "ignored",
          "traceback": [
            "\u001b[0;31m---------------------------------------------------------------------------\u001b[0m",
            "\u001b[0;31mNameError\u001b[0m                                 Traceback (most recent call last)",
            "\u001b[0;32m<ipython-input-16-e3d397de7fe1>\u001b[0m in \u001b[0;36m<module>\u001b[0;34m()\u001b[0m\n\u001b[0;32m----> 1\u001b[0;31m \u001b[0mmodel\u001b[0m \u001b[0;34m=\u001b[0m \u001b[0mModel\u001b[0m\u001b[0;34m(\u001b[0m\u001b[0;34m)\u001b[0m\u001b[0;34m\u001b[0m\u001b[0;34m\u001b[0m\u001b[0m\n\u001b[0m",
            "\u001b[0;31mNameError\u001b[0m: name 'Model' is not defined"
          ]
        }
      ]
    },
    {
      "cell_type": "code",
      "metadata": {
        "id": "Nq0-z3HYPxUH",
        "colab_type": "code",
        "outputId": "221d5fda-30c4-4273-dae0-e6b60f3573f1",
        "colab": {
          "base_uri": "https://localhost:8080/",
          "height": 86
        }
      },
      "source": [
        "model"
      ],
      "execution_count": 0,
      "outputs": [
        {
          "output_type": "execute_result",
          "data": {
            "text/plain": [
              "Model(\n",
              "  (lin1): Linear(in_features=784, out_features=100, bias=True)\n",
              "  (out): Linear(in_features=100, out_features=10, bias=True)\n",
              ")"
            ]
          },
          "metadata": {
            "tags": []
          },
          "execution_count": 26
        }
      ]
    },
    {
      "cell_type": "code",
      "metadata": {
        "id": "SRcJm5kLPxUU",
        "colab_type": "code",
        "colab": {}
      },
      "source": [
        "# optimizer = optim.SGD(model.parameters(),\n",
        "#     lr=0.001,\n",
        "#     momentum=0.9,\n",
        "#     dampening=0,\n",
        "#     weight_decay=0,\n",
        "#     nesterov=True,\n",
        "# )"
      ],
      "execution_count": 0,
      "outputs": []
    },
    {
      "cell_type": "code",
      "metadata": {
        "id": "-EH4Vi9-PxUr",
        "colab_type": "code",
        "colab": {}
      },
      "source": [
        "optimizer = optim.AdamW(model.parameters(), lr=0.001)"
      ],
      "execution_count": 0,
      "outputs": []
    },
    {
      "cell_type": "code",
      "metadata": {
        "scrolled": true,
        "id": "OXCvPSIfPxVN",
        "colab_type": "code",
        "outputId": "9e63bc1d-3ac3-402a-cc5d-f707fc5cc822",
        "colab": {
          "base_uri": "https://localhost:8080/",
          "height": 517
        }
      },
      "source": [
        "loss_func = F.nll_loss\n",
        "epochs=20\n",
        "res = []\n",
        "if torch.cuda.is_available(): model.cuda()\n",
        "for epoch in range(epochs):\n",
        "  #  print(f'---- Epoch: {epoch} ----')\n",
        "    for xb,yb in data.train_dl:\n",
        "        pred = model.forward(xb)\n",
        "        loss = loss_func(pred, yb)\n",
        "        loss.backward()\n",
        "        with torch.no_grad():\n",
        "            optimizer.step()\n",
        "            model.zero_grad()\n",
        "\n",
        "    # validation step\n",
        "    with torch.no_grad():\n",
        "        total_loss,total_acc = 0,0\n",
        "        iter = 0 \n",
        "        for xb,yb in data.valid_dl:\n",
        "            pred = model.forward(xb)\n",
        "       #     if not iter%50:\n",
        "       #         print(loss_func(pred, yb)) \n",
        "            total_loss += loss_func(pred, yb)\n",
        "            total_acc += accuracy(pred,yb)\n",
        "            iter += 1\n",
        "        nv = len(data.valid_dl)\n",
        "        print(f'{epoch}: loss={total_loss/nv},\\t acc={total_acc/nv}')\n",
        "        res.append((total_acc/nv).item())"
      ],
      "execution_count": 0,
      "outputs": [
        {
          "output_type": "error",
          "ename": "RuntimeError",
          "evalue": "ignored",
          "traceback": [
            "\u001b[0;31m---------------------------------------------------------------------------\u001b[0m",
            "\u001b[0;31mRuntimeError\u001b[0m                              Traceback (most recent call last)",
            "\u001b[0;32m<ipython-input-24-ad4afa2e04a6>\u001b[0m in \u001b[0;36m<module>\u001b[0;34m()\u001b[0m\n\u001b[1;32m      5\u001b[0m \u001b[0;32mfor\u001b[0m \u001b[0mepoch\u001b[0m \u001b[0;32min\u001b[0m \u001b[0mrange\u001b[0m\u001b[0;34m(\u001b[0m\u001b[0mepochs\u001b[0m\u001b[0;34m)\u001b[0m\u001b[0;34m:\u001b[0m\u001b[0;34m\u001b[0m\u001b[0;34m\u001b[0m\u001b[0m\n\u001b[1;32m      6\u001b[0m   \u001b[0;31m#  print(f'---- Epoch: {epoch} ----')\u001b[0m\u001b[0;34m\u001b[0m\u001b[0;34m\u001b[0m\u001b[0;34m\u001b[0m\u001b[0m\n\u001b[0;32m----> 7\u001b[0;31m     \u001b[0;32mfor\u001b[0m \u001b[0mxb\u001b[0m\u001b[0;34m,\u001b[0m\u001b[0myb\u001b[0m \u001b[0;32min\u001b[0m \u001b[0mdata\u001b[0m\u001b[0;34m.\u001b[0m\u001b[0mtrain_dl\u001b[0m\u001b[0;34m:\u001b[0m\u001b[0;34m\u001b[0m\u001b[0;34m\u001b[0m\u001b[0m\n\u001b[0m\u001b[1;32m      8\u001b[0m         \u001b[0mpred\u001b[0m \u001b[0;34m=\u001b[0m \u001b[0mmodel\u001b[0m\u001b[0;34m.\u001b[0m\u001b[0mforward\u001b[0m\u001b[0;34m(\u001b[0m\u001b[0mxb\u001b[0m\u001b[0;34m)\u001b[0m\u001b[0;34m\u001b[0m\u001b[0;34m\u001b[0m\u001b[0m\n\u001b[1;32m      9\u001b[0m         \u001b[0mloss\u001b[0m \u001b[0;34m=\u001b[0m \u001b[0mloss_func\u001b[0m\u001b[0;34m(\u001b[0m\u001b[0mpred\u001b[0m\u001b[0;34m,\u001b[0m \u001b[0myb\u001b[0m\u001b[0;34m)\u001b[0m\u001b[0;34m\u001b[0m\u001b[0;34m\u001b[0m\u001b[0m\n",
            "\u001b[0;32m/usr/local/lib/python3.6/dist-packages/fastai/basic_data.py\u001b[0m in \u001b[0;36m__iter__\u001b[0;34m(self)\u001b[0m\n\u001b[1;32m     73\u001b[0m     \u001b[0;32mdef\u001b[0m \u001b[0m__iter__\u001b[0m\u001b[0;34m(\u001b[0m\u001b[0mself\u001b[0m\u001b[0;34m)\u001b[0m\u001b[0;34m:\u001b[0m\u001b[0;34m\u001b[0m\u001b[0;34m\u001b[0m\u001b[0m\n\u001b[1;32m     74\u001b[0m         \u001b[0;34m\"Process and returns items from `DataLoader`.\"\u001b[0m\u001b[0;34m\u001b[0m\u001b[0;34m\u001b[0m\u001b[0m\n\u001b[0;32m---> 75\u001b[0;31m         \u001b[0;32mfor\u001b[0m \u001b[0mb\u001b[0m \u001b[0;32min\u001b[0m \u001b[0mself\u001b[0m\u001b[0;34m.\u001b[0m\u001b[0mdl\u001b[0m\u001b[0;34m:\u001b[0m \u001b[0;32myield\u001b[0m \u001b[0mself\u001b[0m\u001b[0;34m.\u001b[0m\u001b[0mproc_batch\u001b[0m\u001b[0;34m(\u001b[0m\u001b[0mb\u001b[0m\u001b[0;34m)\u001b[0m\u001b[0;34m\u001b[0m\u001b[0;34m\u001b[0m\u001b[0m\n\u001b[0m\u001b[1;32m     76\u001b[0m \u001b[0;34m\u001b[0m\u001b[0m\n\u001b[1;32m     77\u001b[0m     \u001b[0;34m@\u001b[0m\u001b[0mclassmethod\u001b[0m\u001b[0;34m\u001b[0m\u001b[0;34m\u001b[0m\u001b[0m\n",
            "\u001b[0;32m/usr/local/lib/python3.6/dist-packages/torch/utils/data/dataloader.py\u001b[0m in \u001b[0;36m__next__\u001b[0;34m(self)\u001b[0m\n\u001b[1;32m    817\u001b[0m             \u001b[0;32melse\u001b[0m\u001b[0;34m:\u001b[0m\u001b[0;34m\u001b[0m\u001b[0;34m\u001b[0m\u001b[0m\n\u001b[1;32m    818\u001b[0m                 \u001b[0;32mdel\u001b[0m \u001b[0mself\u001b[0m\u001b[0;34m.\u001b[0m\u001b[0m_task_info\u001b[0m\u001b[0;34m[\u001b[0m\u001b[0midx\u001b[0m\u001b[0;34m]\u001b[0m\u001b[0;34m\u001b[0m\u001b[0;34m\u001b[0m\u001b[0m\n\u001b[0;32m--> 819\u001b[0;31m                 \u001b[0;32mreturn\u001b[0m \u001b[0mself\u001b[0m\u001b[0;34m.\u001b[0m\u001b[0m_process_data\u001b[0m\u001b[0;34m(\u001b[0m\u001b[0mdata\u001b[0m\u001b[0;34m)\u001b[0m\u001b[0;34m\u001b[0m\u001b[0;34m\u001b[0m\u001b[0m\n\u001b[0m\u001b[1;32m    820\u001b[0m \u001b[0;34m\u001b[0m\u001b[0m\n\u001b[1;32m    821\u001b[0m     \u001b[0mnext\u001b[0m \u001b[0;34m=\u001b[0m \u001b[0m__next__\u001b[0m  \u001b[0;31m# Python 2 compatibility\u001b[0m\u001b[0;34m\u001b[0m\u001b[0;34m\u001b[0m\u001b[0m\n",
            "\u001b[0;32m/usr/local/lib/python3.6/dist-packages/torch/utils/data/dataloader.py\u001b[0m in \u001b[0;36m_process_data\u001b[0;34m(self, data)\u001b[0m\n\u001b[1;32m    844\u001b[0m         \u001b[0mself\u001b[0m\u001b[0;34m.\u001b[0m\u001b[0m_try_put_index\u001b[0m\u001b[0;34m(\u001b[0m\u001b[0;34m)\u001b[0m\u001b[0;34m\u001b[0m\u001b[0;34m\u001b[0m\u001b[0m\n\u001b[1;32m    845\u001b[0m         \u001b[0;32mif\u001b[0m \u001b[0misinstance\u001b[0m\u001b[0;34m(\u001b[0m\u001b[0mdata\u001b[0m\u001b[0;34m,\u001b[0m \u001b[0mExceptionWrapper\u001b[0m\u001b[0;34m)\u001b[0m\u001b[0;34m:\u001b[0m\u001b[0;34m\u001b[0m\u001b[0;34m\u001b[0m\u001b[0m\n\u001b[0;32m--> 846\u001b[0;31m             \u001b[0mdata\u001b[0m\u001b[0;34m.\u001b[0m\u001b[0mreraise\u001b[0m\u001b[0;34m(\u001b[0m\u001b[0;34m)\u001b[0m\u001b[0;34m\u001b[0m\u001b[0;34m\u001b[0m\u001b[0m\n\u001b[0m\u001b[1;32m    847\u001b[0m         \u001b[0;32mreturn\u001b[0m \u001b[0mdata\u001b[0m\u001b[0;34m\u001b[0m\u001b[0;34m\u001b[0m\u001b[0m\n\u001b[1;32m    848\u001b[0m \u001b[0;34m\u001b[0m\u001b[0m\n",
            "\u001b[0;32m/usr/local/lib/python3.6/dist-packages/torch/_utils.py\u001b[0m in \u001b[0;36mreraise\u001b[0;34m(self)\u001b[0m\n\u001b[1;32m    383\u001b[0m             \u001b[0;31m# (https://bugs.python.org/issue2651), so we work around it.\u001b[0m\u001b[0;34m\u001b[0m\u001b[0;34m\u001b[0m\u001b[0;34m\u001b[0m\u001b[0m\n\u001b[1;32m    384\u001b[0m             \u001b[0mmsg\u001b[0m \u001b[0;34m=\u001b[0m \u001b[0mKeyErrorMessage\u001b[0m\u001b[0;34m(\u001b[0m\u001b[0mmsg\u001b[0m\u001b[0;34m)\u001b[0m\u001b[0;34m\u001b[0m\u001b[0;34m\u001b[0m\u001b[0m\n\u001b[0;32m--> 385\u001b[0;31m         \u001b[0;32mraise\u001b[0m \u001b[0mself\u001b[0m\u001b[0;34m.\u001b[0m\u001b[0mexc_type\u001b[0m\u001b[0;34m(\u001b[0m\u001b[0mmsg\u001b[0m\u001b[0;34m)\u001b[0m\u001b[0;34m\u001b[0m\u001b[0;34m\u001b[0m\u001b[0m\n\u001b[0m",
            "\u001b[0;31mRuntimeError\u001b[0m: Caught RuntimeError in pin memory thread for device 0.\nOriginal Traceback (most recent call last):\n  File \"/usr/local/lib/python3.6/dist-packages/torch/utils/data/_utils/pin_memory.py\", line 31, in _pin_memory_loop\n    data = pin_memory(data)\n  File \"/usr/local/lib/python3.6/dist-packages/torch/utils/data/_utils/pin_memory.py\", line 55, in pin_memory\n    return [pin_memory(sample) for sample in data]\n  File \"/usr/local/lib/python3.6/dist-packages/torch/utils/data/_utils/pin_memory.py\", line 55, in <listcomp>\n    return [pin_memory(sample) for sample in data]\n  File \"/usr/local/lib/python3.6/dist-packages/torch/utils/data/_utils/pin_memory.py\", line 47, in pin_memory\n    return data.pin_memory()\nRuntimeError: cuda runtime error (710) : device-side assert triggered at /pytorch/aten/src/THC/THCCachingHostAllocator.cpp:278\n"
          ]
        }
      ]
    },
    {
      "cell_type": "code",
      "metadata": {
        "id": "CL6SSTYwPxVS",
        "colab_type": "code",
        "colab": {}
      },
      "source": [
        "df = pd.DataFrame()"
      ],
      "execution_count": 0,
      "outputs": []
    },
    {
      "cell_type": "code",
      "metadata": {
        "scrolled": true,
        "id": "UenML0TJPxVj",
        "colab_type": "code",
        "outputId": "989ebe04-b8f3-4415-eece-ef644cc61013",
        "colab": {
          "base_uri": "https://localhost:8080/",
          "height": 295
        }
      },
      "source": [
        "df['AdamW lr=0.001 3l+drop'] = res\n",
        "ax = df.plot(title='Optimizers study, MNIST')#,xticks=[0,1,2,3,4,5,6,7,8,9]);\n",
        "ax.set_xlabel(\"Epoch\");\n",
        "ax.set_ylabel(\"Accuracy\");"
      ],
      "execution_count": 0,
      "outputs": [
        {
          "output_type": "display_data",
          "data": {
            "image/png": "[encoded data removed]",
            "text/plain": [
              "<Figure size 432x288 with 1 Axes>"
            ]
          },
          "metadata": {
            "tags": []
          }
        }
      ]
    },
    {
      "cell_type": "code",
      "metadata": {
        "id": "UbEPLKDcPxV5",
        "colab_type": "code",
        "colab": {}
      },
      "source": [
        "df.to_csv('optimizers-res2.csv')"
      ],
      "execution_count": 0,
      "outputs": []
    },
    {
      "cell_type": "markdown",
      "metadata": {
        "id": "FY99jzVlPxV9",
        "colab_type": "text"
      },
      "source": [
        "## Model defined as a Sequence of Layers"
      ]
    },
    {
      "cell_type": "code",
      "metadata": {
        "id": "cbre2mHSPxV-",
        "colab_type": "code",
        "colab": {}
      },
      "source": [
        "model = nn.Sequential(\n",
        "    nn.Flatten(),\n",
        "    nn.Linear(784,100),\n",
        "    nn.ReLU(),\n",
        "    nn.Dropout(p=0.2),\n",
        "    nn.Linear(100,10),\n",
        "    nn.LogSoftmax(dim=1)\n",
        "    )"
      ],
      "execution_count": 0,
      "outputs": []
    },
    {
      "cell_type": "code",
      "metadata": {
        "id": "XIm8SPfG9SBk",
        "colab_type": "code",
        "outputId": "6fd75780-de55-4633-e6b5-c5d5281fa1eb",
        "colab": {
          "base_uri": "https://localhost:8080/",
          "height": 155
        }
      },
      "source": [
        "model"
      ],
      "execution_count": 0,
      "outputs": [
        {
          "output_type": "execute_result",
          "data": {
            "text/plain": [
              "Sequential(\n",
              "  (0): Flatten()\n",
              "  (1): Linear(in_features=784, out_features=100, bias=True)\n",
              "  (2): ReLU()\n",
              "  (3): Dropout(p=0.2, inplace=False)\n",
              "  (4): Linear(in_features=100, out_features=10, bias=True)\n",
              "  (5): LogSoftmax()\n",
              ")"
            ]
          },
          "metadata": {
            "tags": []
          },
          "execution_count": 26
        }
      ]
    },
    {
      "cell_type": "markdown",
      "metadata": {
        "id": "gfguYlpIPxWy",
        "colab_type": "text"
      },
      "source": [
        "# Inference"
      ]
    },
    {
      "cell_type": "code",
      "metadata": {
        "id": "U0B8rVBrPxWz",
        "colab_type": "code",
        "colab": {}
      },
      "source": [
        "#plt.bar(range(0,10),l2res[4].detach(),tick_label=[0,1,2,3,4,5,6,7,8,9]);"
      ],
      "execution_count": 0,
      "outputs": []
    },
    {
      "cell_type": "code",
      "metadata": {
        "id": "urcNOOBaPxW_",
        "colab_type": "code",
        "colab": {}
      },
      "source": [
        "data.show_batch(4,ds_type=DatasetType.Test,figsize=(6,6))"
      ],
      "execution_count": 0,
      "outputs": []
    },
    {
      "cell_type": "code",
      "metadata": {
        "id": "WrFTQQsRPxXJ",
        "colab_type": "code",
        "colab": {}
      },
      "source": [
        "xb,_ = next(iter(data.test_dl))\n",
        "#x = data.test_ds[10][0].px.reshape(-1)"
      ],
      "execution_count": 0,
      "outputs": []
    },
    {
      "cell_type": "code",
      "metadata": {
        "id": "7EfCwlvJPxXR",
        "colab_type": "code",
        "colab": {}
      },
      "source": [
        "xb = xb.reshape(-1,784)"
      ],
      "execution_count": 0,
      "outputs": []
    },
    {
      "cell_type": "code",
      "metadata": {
        "id": "5k1BPRAXPxXU",
        "colab_type": "code",
        "colab": {}
      },
      "source": [
        "preds = model(xb).argmax(dim=1)"
      ],
      "execution_count": 0,
      "outputs": []
    },
    {
      "cell_type": "code",
      "metadata": {
        "id": "lstGCD0ZPxXf",
        "colab_type": "code",
        "colab": {}
      },
      "source": [
        "for i in range(len(data.test_dl)):\n",
        "    print(i)"
      ],
      "execution_count": 0,
      "outputs": []
    },
    {
      "cell_type": "code",
      "metadata": {
        "id": "rw2fr-EyPxXj",
        "colab_type": "code",
        "colab": {}
      },
      "source": [
        "data.test_ds.x[0]"
      ],
      "execution_count": 0,
      "outputs": []
    },
    {
      "cell_type": "code",
      "metadata": {
        "id": "x61qW8ixPxXm",
        "colab_type": "code",
        "colab": {}
      },
      "source": [
        "plt.plot(data.test_ds.x[0])#,preds[0]"
      ],
      "execution_count": 0,
      "outputs": []
    },
    {
      "cell_type": "markdown",
      "metadata": {
        "heading_collapsed": true,
        "id": "uMhZne7EPxXs",
        "colab_type": "text"
      },
      "source": [
        "# Neural net using torch.nn"
      ]
    },
    {
      "cell_type": "code",
      "metadata": {
        "hidden": true,
        "id": "gXMSk06JPxXt",
        "colab_type": "code",
        "colab": {}
      },
      "source": [
        "def simple_cnn(actns:Collection[int], kernel_szs:Collection[int]=None,\n",
        "               strides:Collection[int]=None) -> nn.Sequential:\n",
        "    \"CNN with `conv2d_relu` layers defined by `actns`, `kernel_szs` and `strides`\"\n",
        "    nl = len(actns)-1\n",
        "    kernel_szs = ifnone(kernel_szs, [3]*nl)\n",
        "    strides    = ifnone(strides   , [2]*nl)\n",
        "    layers = [conv_layer(actns[i], actns[i+1], kernel_szs[i], stride=strides[i])\n",
        "        for i in range(len(strides))]\n",
        "    layers.append(nn.Sequential(AdaptiveConcatPool2d(1), Flatten()))\n",
        "    return nn.Sequential(*layers)"
      ],
      "execution_count": 0,
      "outputs": []
    },
    {
      "cell_type": "code",
      "metadata": {
        "hidden": true,
        "id": "TxMqW9zEPxXx",
        "colab_type": "code",
        "outputId": "926340e5-dd82-4051-ddf1-b4a09ed40c8c",
        "colab": {
          "base_uri": "https://localhost:8080/",
          "height": 432
        }
      },
      "source": [
        "model = simple_cnn((3,16,16,5))\n",
        "model"
      ],
      "execution_count": 11,
      "outputs": [
        {
          "output_type": "execute_result",
          "data": {
            "text/plain": [
              "Sequential(\n",
              "  (0): Sequential(\n",
              "    (0): Conv2d(3, 16, kernel_size=(3, 3), stride=(2, 2), padding=(1, 1), bias=False)\n",
              "    (1): ReLU(inplace=True)\n",
              "    (2): BatchNorm2d(16, eps=1e-05, momentum=0.1, affine=True, track_running_stats=True)\n",
              "  )\n",
              "  (1): Sequential(\n",
              "    (0): Conv2d(16, 16, kernel_size=(3, 3), stride=(2, 2), padding=(1, 1), bias=False)\n",
              "    (1): ReLU(inplace=True)\n",
              "    (2): BatchNorm2d(16, eps=1e-05, momentum=0.1, affine=True, track_running_stats=True)\n",
              "  )\n",
              "  (2): Sequential(\n",
              "    (0): Conv2d(16, 5, kernel_size=(3, 3), stride=(2, 2), padding=(1, 1), bias=False)\n",
              "    (1): ReLU(inplace=True)\n",
              "    (2): BatchNorm2d(5, eps=1e-05, momentum=0.1, affine=True, track_running_stats=True)\n",
              "  )\n",
              "  (3): Sequential(\n",
              "    (0): AdaptiveConcatPool2d(\n",
              "      (ap): AdaptiveAvgPool2d(output_size=1)\n",
              "      (mp): AdaptiveMaxPool2d(output_size=1)\n",
              "    )\n",
              "    (1): Flatten()\n",
              "  )\n",
              ")"
            ]
          },
          "metadata": {
            "tags": []
          },
          "execution_count": 11
        }
      ]
    },
    {
      "cell_type": "code",
      "metadata": {
        "id": "sFEfqDqIlbeK",
        "colab_type": "code",
        "colab": {}
      },
      "source": [
        ""
      ],
      "execution_count": 0,
      "outputs": []
    },
    {
      "cell_type": "code",
      "metadata": {
        "hidden": true,
        "id": "99CnunQ4PxX0",
        "colab_type": "code",
        "colab": {}
      },
      "source": [
        "learn = cnn_learner(data, models.resnet50, metrics=accuracy,\n",
        "                    callback_fns=[partial(EarlyStoppingCallback, monitor='accuracy', min_delta=0.001, patience=3),\n",
        "                                          ShowGraph])"
      ],
      "execution_count": 0,
      "outputs": []
    },
    {
      "cell_type": "code",
      "metadata": {
        "hidden": true,
        "id": "FWO3yN5cPxX3",
        "colab_type": "code",
        "colab": {
          "base_uri": "https://localhost:8080/",
          "height": 35
        },
        "outputId": "4233ece0-b6a2-446b-a45e-4a7e0e181210"
      },
      "source": [
        "learn.lr_find()"
      ],
      "execution_count": 12,
      "outputs": [
        {
          "output_type": "display_data",
          "data": {
            "text/html": [
              ""
            ],
            "text/plain": [
              "<IPython.core.display.HTML object>"
            ]
          },
          "metadata": {
            "tags": []
          }
        },
        {
          "output_type": "stream",
          "text": [
            "LR Finder is complete, type {learner_name}.recorder.plot() to see the graph.\n"
          ],
          "name": "stdout"
        }
      ]
    },
    {
      "cell_type": "code",
      "metadata": {
        "id": "Be1pMLemuQlq",
        "colab_type": "code",
        "colab": {
          "base_uri": "https://localhost:8080/",
          "height": 279
        },
        "outputId": "46127a75-e9d7-4da3-e3b5-5612cd6252a2"
      },
      "source": [
        "learn.recorder.plot()"
      ],
      "execution_count": 13,
      "outputs": [
        {
          "output_type": "display_data",
          "data": {
            "image/png": "[encoded data removed]",
            "text/plain": [
              "<Figure size 432x288 with 1 Axes>"
            ]
          },
          "metadata": {
            "tags": []
          }
        }
      ]
    },
    {
      "cell_type": "code",
      "metadata": {
        "id": "HJlbJyyebIKv",
        "colab_type": "code",
        "colab": {
          "base_uri": "https://localhost:8080/",
          "height": 1000
        },
        "outputId": "84076ad2-0530-4783-b70a-4e472e681718"
      },
      "source": [
        "learn.fit_one_cycle(20,max_lr=2e-2, \n",
        "  callbacks=[SaveModelCallback(learn, every='epoch', monitor='accuracy'),\n",
        "             ReduceLROnPlateauCallback(learn, monitor='valid_loss')])"
      ],
      "execution_count": 16,
      "outputs": [
        {
          "output_type": "display_data",
          "data": {
            "text/html": [
              "\n",
              "    <div>\n",
              "        <style>\n",
              "            /* Turns off some styling */\n",
              "            progress {\n",
              "                /* gets rid of default border in Firefox and Opera. */\n",
              "                border: none;\n",
              "                /* Needs to be in here for Safari polyfill so background images work as expected. */\n",
              "                background-size: auto;\n",
              "            }\n",
              "            .progress-bar-interrupted, .progress-bar-interrupted::-webkit-progress-bar {\n",
              "                background: #F44336;\n",
              "            }\n",
              "        </style>\n",
              "      <progress value='10' class='' max='20', style='width:300px; height:20px; vertical-align: middle;'></progress>\n",
              "      50.00% [10/20 15:37<15:37]\n",
              "    </div>\n",
              "    \n",
              "<table border=\"1\" class=\"dataframe\">\n",
              "  <thead>\n",
              "    <tr style=\"text-align: left;\">\n",
              "      <th>epoch</th>\n",
              "      <th>train_loss</th>\n",
              "      <th>valid_loss</th>\n",
              "      <th>accuracy</th>\n",
              "      <th>time</th>\n",
              "    </tr>\n",
              "  </thead>\n",
              "  <tbody>\n",
              "    <tr>\n",
              "      <td>0</td>\n",
              "      <td>0.240215</td>\n",
              "      <td>0.152117</td>\n",
              "      <td>0.952750</td>\n",
              "      <td>01:32</td>\n",
              "    </tr>\n",
              "    <tr>\n",
              "      <td>1</td>\n",
              "      <td>0.133004</td>\n",
              "      <td>0.088209</td>\n",
              "      <td>0.974083</td>\n",
              "      <td>01:32</td>\n",
              "    </tr>\n",
              "    <tr>\n",
              "      <td>2</td>\n",
              "      <td>0.116195</td>\n",
              "      <td>0.058805</td>\n",
              "      <td>0.983917</td>\n",
              "      <td>01:33</td>\n",
              "    </tr>\n",
              "    <tr>\n",
              "      <td>3</td>\n",
              "      <td>0.116799</td>\n",
              "      <td>0.073823</td>\n",
              "      <td>0.977083</td>\n",
              "      <td>01:33</td>\n",
              "    </tr>\n",
              "    <tr>\n",
              "      <td>4</td>\n",
              "      <td>0.118568</td>\n",
              "      <td>0.105394</td>\n",
              "      <td>0.967833</td>\n",
              "      <td>01:33</td>\n",
              "    </tr>\n",
              "    <tr>\n",
              "      <td>5</td>\n",
              "      <td>0.118191</td>\n",
              "      <td>0.071956</td>\n",
              "      <td>0.978250</td>\n",
              "      <td>01:33</td>\n",
              "    </tr>\n",
              "    <tr>\n",
              "      <td>6</td>\n",
              "      <td>0.099247</td>\n",
              "      <td>0.045549</td>\n",
              "      <td>0.987000</td>\n",
              "      <td>01:33</td>\n",
              "    </tr>\n",
              "    <tr>\n",
              "      <td>7</td>\n",
              "      <td>0.086165</td>\n",
              "      <td>0.066388</td>\n",
              "      <td>0.986583</td>\n",
              "      <td>01:33</td>\n",
              "    </tr>\n",
              "    <tr>\n",
              "      <td>8</td>\n",
              "      <td>0.091012</td>\n",
              "      <td>0.093308</td>\n",
              "      <td>0.975083</td>\n",
              "      <td>01:33</td>\n",
              "    </tr>\n",
              "    <tr>\n",
              "      <td>9</td>\n",
              "      <td>0.076370</td>\n",
              "      <td>0.129007</td>\n",
              "      <td>0.985333</td>\n",
              "      <td>01:33</td>\n",
              "    </tr>\n",
              "  </tbody>\n",
              "</table><p>\n",
              "\n",
              "    <div>\n",
              "        <style>\n",
              "            /* Turns off some styling */\n",
              "            progress {\n",
              "                /* gets rid of default border in Firefox and Opera. */\n",
              "                border: none;\n",
              "                /* Needs to be in here for Safari polyfill so background images work as expected. */\n",
              "                background-size: auto;\n",
              "            }\n",
              "            .progress-bar-interrupted, .progress-bar-interrupted::-webkit-progress-bar {\n",
              "                background: #F44336;\n",
              "            }\n",
              "        </style>\n",
              "      <progress value='94' class='' max='94', style='width:300px; height:20px; vertical-align: middle;'></progress>\n",
              "      100.00% [94/94 00:06<00:00]\n",
              "    </div>\n",
              "    "
            ],
            "text/plain": [
              "<IPython.core.display.HTML object>"
            ]
          },
          "metadata": {
            "tags": []
          }
        },
        {
          "output_type": "display_data",
          "data": {
            "image/png": "[encoded data removed]",
            "text/plain": [
              "<Figure size 432x288 with 1 Axes>"
            ]
          },
          "metadata": {
            "tags": []
          }
        },
        {
          "output_type": "stream",
          "text": [
            "Epoch 3: reducing lr to 0.0030399999999999997\n",
            "Epoch 4: reducing lr to 0.0037427687752661226\n",
            "Epoch 5: reducing lr to 0.004\n",
            "Epoch 7: reducing lr to 0.0038019385280538952\n",
            "Epoch 8: reducing lr to 0.0035636647102842\n",
            "Epoch 9: reducing lr to 0.0032469826157990526\n",
            "Epoch 10: early stopping\n",
            "Epoch 10: reducing lr to 0.0028677720071652035\n"
          ],
          "name": "stdout"
        },
        {
          "output_type": "display_data",
          "data": {
            "image/png": "[encoded data removed]",
            "text/plain": [
              "<Figure size 432x288 with 1 Axes>"
            ]
          },
          "metadata": {
            "tags": []
          }
        }
      ]
    },
    {
      "cell_type": "code",
      "metadata": {
        "id": "ij4UMnyYbdOS",
        "colab_type": "code",
        "colab": {
          "base_uri": "https://localhost:8080/",
          "height": 35
        },
        "outputId": "673d2f2f-b713-4b5a-c02b-db99bd4be087"
      },
      "source": [
        "!ls -l ~/.fastai/data/mnist_sample/models"
      ],
      "execution_count": 49,
      "outputs": [
        {
          "output_type": "stream",
          "text": [
            "total 0\n"
          ],
          "name": "stdout"
        }
      ]
    },
    {
      "cell_type": "code",
      "metadata": {
        "id": "OJWYMAn2m2Ab",
        "colab_type": "code",
        "colab": {}
      },
      "source": [
        "!rm ~/.fastai/data/mnist_sample/models/*.pth"
      ],
      "execution_count": 0,
      "outputs": []
    },
    {
      "cell_type": "code",
      "metadata": {
        "id": "RSG6BkCJvF2c",
        "colab_type": "code",
        "colab": {
          "base_uri": "https://localhost:8080/",
          "height": 279
        },
        "outputId": "448d1e10-3dbc-4787-bf27-d924b6b749ea"
      },
      "source": [
        "learn.recorder.plot_losses()"
      ],
      "execution_count": 46,
      "outputs": [
        {
          "output_type": "display_data",
          "data": {
            "image/png": "[encoded data removed]",
            "text/plain": [
              "<Figure size 432x288 with 1 Axes>"
            ]
          },
          "metadata": {
            "tags": []
          }
        }
      ]
    },
    {
      "cell_type": "code",
      "metadata": {
        "id": "Akxn7eyMvUxa",
        "colab_type": "code",
        "colab": {}
      },
      "source": [
        ""
      ],
      "execution_count": 0,
      "outputs": []
    }
  ]
}