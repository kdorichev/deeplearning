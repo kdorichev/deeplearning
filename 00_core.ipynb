{
 "cells": [
  {
   "cell_type": "code",
   "execution_count": 1,
   "metadata": {},
   "outputs": [],
   "source": [
    "# default_exp core"
   ]
  },
  {
   "cell_type": "code",
   "execution_count": 12,
   "metadata": {},
   "outputs": [],
   "source": [
    "import torch\n",
    "import matplotlib.pyplot as plt"
   ]
  },
  {
   "cell_type": "code",
   "execution_count": 2,
   "metadata": {},
   "outputs": [],
   "source": [
    "from nbdev.showdoc import *"
   ]
  },
  {
   "cell_type": "markdown",
   "metadata": {},
   "source": [
    "# Core functions"
   ]
  },
  {
   "cell_type": "code",
   "execution_count": 3,
   "metadata": {},
   "outputs": [],
   "source": [
    "#export\n",
    "def stats(x):\n",
    "    \"Returns `mean` and `std` of a tensor\"\n",
    "    return x.mean(),x.std()"
   ]
  },
  {
   "cell_type": "code",
   "execution_count": 14,
   "metadata": {},
   "outputs": [
    {
     "data": {
      "text/plain": [
       "tensor([[ 0.3715,  1.2045, -0.1262, -1.0823, -0.7426],\n",
       "        [ 0.4115, -1.6926,  0.3977,  0.9912,  1.0551],\n",
       "        [-0.3286,  0.2690, -0.0317,  0.2239, -0.5923],\n",
       "        [ 0.8015, -0.6005,  1.2663,  1.5570, -2.5232],\n",
       "        [ 1.1867, -0.2238,  0.1975,  1.1082, -1.5733]])"
      ]
     },
     "execution_count": 14,
     "metadata": {},
     "output_type": "execute_result"
    }
   ],
   "source": [
    "t = torch.randn((50,50))\n",
    "t[:5,:5]"
   ]
  },
  {
   "cell_type": "code",
   "execution_count": 15,
   "metadata": {},
   "outputs": [
    {
     "data": {
      "text/plain": [
       "(tensor(-0.0291), tensor(0.9758))"
      ]
     },
     "execution_count": 15,
     "metadata": {},
     "output_type": "execute_result"
    }
   ],
   "source": [
    "stats(t)"
   ]
  },
  {
   "cell_type": "code",
   "execution_count": 16,
   "metadata": {},
   "outputs": [],
   "source": [
    "#export\n",
    "def log_softmax(x):\n",
    "    \n",
    "    return x - x.exp().sum(-1).log().unsqueeze(-1)"
   ]
  },
  {
   "cell_type": "code",
   "execution_count": 17,
   "metadata": {},
   "outputs": [
    {
     "data": {
      "text/plain": [
       "tensor([[-3.6950, -2.8619, -4.1926,  ..., -3.1666, -5.1799, -4.8105],\n",
       "        [-4.0928, -6.1969, -4.1066,  ..., -4.5171, -3.2404, -4.9483],\n",
       "        [-4.4548, -3.8572, -4.1580,  ..., -5.4231, -3.5501, -2.9028],\n",
       "        ...,\n",
       "        [-5.1441, -3.8218, -4.7634,  ..., -5.3649, -2.8055, -3.9113],\n",
       "        [-6.1238, -5.3251, -5.0764,  ..., -2.2704, -5.2789, -8.1700],\n",
       "        [-4.7550, -4.9996, -4.0410,  ..., -4.6907, -5.4599, -4.5477]])"
      ]
     },
     "execution_count": 17,
     "metadata": {},
     "output_type": "execute_result"
    }
   ],
   "source": [
    "log_softmax(t)"
   ]
  },
  {
   "cell_type": "code",
   "execution_count": 18,
   "metadata": {},
   "outputs": [],
   "source": [
    "#export\n",
    "def plotdist(x):\n",
    "    \"Plot distribution `x`\"\n",
    "    fig = plt.figure(figsize=(4,3))\n",
    "    m,s = x.mean(), x.std()\n",
    "    n,_,_ = plt.hist(x.reshape(-1),bins=100);\n",
    "    l = [i*s for i in (-3,-2,-1,1,2,3)] # three sigmas\n",
    "    l.append(m) # plus mean\n",
    "    plt.vlines(l, 0, n.max(), color='white', alpha=0.2)\n",
    "    ax = plt.title(f'Mean = {round(float(m),3)}; $\\sigma$ = {round(float(s),3)}');"
   ]
  },
  {
   "cell_type": "code",
   "execution_count": 19,
   "metadata": {},
   "outputs": [
    {
     "data": {
      "image/png": "[encoded data removed]",
      "text/plain": [
       "<Figure size 288x216 with 1 Axes>"
      ]
     },
     "metadata": {
      "needs_background": "light"
     },
     "output_type": "display_data"
    }
   ],
   "source": [
    "plotdist(t)"
   ]
  },
  {
   "cell_type": "code",
   "execution_count": 20,
   "metadata": {
    "scrolled": true
   },
   "outputs": [
    {
     "name": "stdout",
     "output_type": "stream",
     "text": [
      "Converted 00_core.ipynb.\n",
      "Converted 01_mnist.ipynb.\n",
      "Converted 99_index.ipynb.\n"
     ]
    }
   ],
   "source": [
    "#hide\n",
    "from nbdev.export import *\n",
    "notebook2script()"
   ]
  },
  {
   "cell_type": "code",
   "execution_count": null,
   "metadata": {},
   "outputs": [],
   "source": []
  }
 ],
 "metadata": {
  "kernelspec": {
   "display_name": "Python 3",
   "language": "python",
   "name": "python3"
  },
  "language_info": {
   "codemirror_mode": {
    "name": "ipython",
    "version": 3
   },
   "file_extension": ".py",
   "mimetype": "text/x-python",
   "name": "python",
   "nbconvert_exporter": "python",
   "pygments_lexer": "ipython3",
   "version": "3.7.3"
  }
 },
 "nbformat": 4,
 "nbformat_minor": 2
}
